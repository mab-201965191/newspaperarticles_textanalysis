{
 "cells": [
  {
   "cell_type": "code",
   "execution_count": 5,
   "id": "e797b7d1",
   "metadata": {},
   "outputs": [],
   "source": [
    "import spacy\n",
    "nlp = spacy.blank(\"en\")\n",
    "nlp.add_pipe('opentapioca')\n",
    "import nltk\n",
    "import json\n",
    "import sqlite3\n",
    "import pandas as pd\n",
    "from spacy import displacy"
   ]
  },
  {
   "cell_type": "code",
   "execution_count": 6,
   "id": "9c2abb57",
   "metadata": {},
   "outputs": [],
   "source": [
    "doc = nlp(\"Red Cross said it had stepped in to help NHS England to deal with high demand after labelling it a 'humanitarian crisis', health service supporters hit back Former doctor and now Tory MP Sarah Wollast\")"
   ]
  },
  {
   "cell_type": "code",
   "execution_count": 7,
   "id": "a9768c37",
   "metadata": {},
   "outputs": [
    {
     "name": "stdout",
     "output_type": "stream",
     "text": [
      "('Red Cross', 1002946122018293909, 'ORG', 'The International Red Cross and Red Crescent Movement is an international humanitarian movement', 0.12035840547996834)\n",
      "('NHS England', 263394116640064106, 'ORG', 'publicly funded system of healthcare in England', 0.14759628706279504)\n",
      "('MP', 12924700909064205054, 'LOC', 'American-dependent insular area in the western Pacific', 0.12679382386183946)\n"
     ]
    }
   ],
   "source": [
    "for span in doc.ents:\n",
    "    print((span.text, span.kb_id, span.label_, span._.description, span._.score))"
   ]
  },
  {
   "cell_type": "code",
   "execution_count": 12,
   "id": "9a31d43c",
   "metadata": {},
   "outputs": [
    {
     "data": {
      "text/plain": [
       "(Red Cross, NHS England, MP)"
      ]
     },
     "execution_count": 12,
     "metadata": {},
     "output_type": "execute_result"
    }
   ],
   "source": [
    "print(df['text'][1][0:200])\n",
    "doc1 = nlp(df['text'][1][0:250])\n",
    "print(doc1.ents)\n",
    "for ent in doc1.ents:\n",
    "    print(ent.text, ent.label_)"
   ]
  },
  {
   "cell_type": "code",
   "execution_count": 8,
   "id": "29048303",
   "metadata": {},
   "outputs": [],
   "source": [
    "con = sqlite3.connect(\"news_data.sqlite\")\n",
    "cur = con.cursor()"
   ]
  },
  {
   "cell_type": "code",
   "execution_count": 9,
   "id": "c4e0164d",
   "metadata": {},
   "outputs": [
    {
     "name": "stdout",
     "output_type": "stream",
     "text": [
      "[('disasters_reliefweb',), ('search_set',), ('reference_set',), ('chad_narrow_firsthalf_2017_all',), ('chad_narrow_firsthalf_2017_relevance',), ('narrow_2017_relevance',), ('extended_2017_relevance',), ('chad_extended_firsthalf_2017_all',), ('chad_extended_firsthalf_2017_relevance',)]\n"
     ]
    }
   ],
   "source": [
    "cur.execute(\"SELECT name FROM sqlite_master WHERE type = 'table';\")\n",
    "print(cur.fetchall())"
   ]
  },
  {
   "cell_type": "code",
   "execution_count": 10,
   "id": "b204f3bd",
   "metadata": {},
   "outputs": [
    {
     "data": {
      "text/html": [
       "<div>\n",
       "<style scoped>\n",
       "    .dataframe tbody tr th:only-of-type {\n",
       "        vertical-align: middle;\n",
       "    }\n",
       "\n",
       "    .dataframe tbody tr th {\n",
       "        vertical-align: top;\n",
       "    }\n",
       "\n",
       "    .dataframe thead th {\n",
       "        text-align: right;\n",
       "    }\n",
       "</style>\n",
       "<table border=\"1\" class=\"dataframe\">\n",
       "  <thead>\n",
       "    <tr style=\"text-align: right;\">\n",
       "      <th></th>\n",
       "      <th>index</th>\n",
       "      <th>text</th>\n",
       "      <th>load_date</th>\n",
       "      <th>headline</th>\n",
       "      <th>source</th>\n",
       "      <th>date_published</th>\n",
       "      <th>edition</th>\n",
       "      <th>copyright</th>\n",
       "      <th>length</th>\n",
       "      <th>byline</th>\n",
       "      <th>dateline</th>\n",
       "      <th>other</th>\n",
       "      <th>section</th>\n",
       "      <th>date_formatted</th>\n",
       "    </tr>\n",
       "  </thead>\n",
       "  <tbody>\n",
       "    <tr>\n",
       "      <th>0</th>\n",
       "      <td>0</td>\n",
       "      <td>A major humanitarian crisis is unfolding in Et...</td>\n",
       "      <td>November 18, 2020</td>\n",
       "      <td>'Full-scale' humanitarian crisis unfolding in ...</td>\n",
       "      <td>defenceWeb</td>\n",
       "      <td>November 18, 2020</td>\n",
       "      <td>None</td>\n",
       "      <td>Copyright 2020 defenceWeb All Rights Reserved</td>\n",
       "      <td>473</td>\n",
       "      <td>None</td>\n",
       "      <td>None</td>\n",
       "      <td>None</td>\n",
       "      <td>None</td>\n",
       "      <td>18584.0</td>\n",
       "    </tr>\n",
       "    <tr>\n",
       "      <th>1</th>\n",
       "      <td>1</td>\n",
       "      <td>Red Cross said it had stepped in to help NHS E...</td>\n",
       "      <td>January 7, 2017</td>\n",
       "      <td>'This is not Syria or Yemen': Fury as Red Cros...</td>\n",
       "      <td>MailOnline</td>\n",
       "      <td>January 7, 2017</td>\n",
       "      <td>None</td>\n",
       "      <td>Copyright 2017 Associated Newspapers Ltd. All ...</td>\n",
       "      <td>1470</td>\n",
       "      <td>GARETH DAVIES FOR MAILONLINE</td>\n",
       "      <td>None</td>\n",
       "      <td>None</td>\n",
       "      <td>None</td>\n",
       "      <td>17173.0</td>\n",
       "    </tr>\n",
       "    <tr>\n",
       "      <th>2</th>\n",
       "      <td>2</td>\n",
       "      <td>Red Cross said it had stepped in to help NHS E...</td>\n",
       "      <td>January 7, 2017</td>\n",
       "      <td>'This is not Syria or Yemen': Fury as Red Cros...</td>\n",
       "      <td>MailOnline</td>\n",
       "      <td>January 7, 2017</td>\n",
       "      <td>None</td>\n",
       "      <td>Copyright 2017 Associated Newspapers Ltd. All ...</td>\n",
       "      <td>1700</td>\n",
       "      <td>GARETH DAVIES FOR MAILONLINE</td>\n",
       "      <td>None</td>\n",
       "      <td>None</td>\n",
       "      <td>None</td>\n",
       "      <td>17173.0</td>\n",
       "    </tr>\n",
       "    <tr>\n",
       "      <th>3</th>\n",
       "      <td>3</td>\n",
       "      <td>Very few international news organisations rout...</td>\n",
       "      <td>October 17, 2018</td>\n",
       "      <td>-City, University of London: New report reveal...</td>\n",
       "      <td>ENP Newswire</td>\n",
       "      <td>October 17, 2018</td>\n",
       "      <td>None</td>\n",
       "      <td>Copyright 2018 Normans Media Limited All Right...</td>\n",
       "      <td>572</td>\n",
       "      <td>None</td>\n",
       "      <td>None</td>\n",
       "      <td>None</td>\n",
       "      <td>None</td>\n",
       "      <td>17821.0</td>\n",
       "    </tr>\n",
       "    <tr>\n",
       "      <th>4</th>\n",
       "      <td>4</td>\n",
       "      <td>The London School of Hygiene &amp; Tropical Medici...</td>\n",
       "      <td>July 24, 2017</td>\n",
       "      <td>-London School of Hygiene &amp; Tropical Medicine ...</td>\n",
       "      <td>ENP Newswire</td>\n",
       "      <td>July 24, 2017</td>\n",
       "      <td>None</td>\n",
       "      <td>Copyright 2017 Normans Media Limited All Right...</td>\n",
       "      <td>598</td>\n",
       "      <td>None</td>\n",
       "      <td>None</td>\n",
       "      <td>None</td>\n",
       "      <td>None</td>\n",
       "      <td>17371.0</td>\n",
       "    </tr>\n",
       "  </tbody>\n",
       "</table>\n",
       "</div>"
      ],
      "text/plain": [
       "   index                                               text  \\\n",
       "0      0  A major humanitarian crisis is unfolding in Et...   \n",
       "1      1  Red Cross said it had stepped in to help NHS E...   \n",
       "2      2  Red Cross said it had stepped in to help NHS E...   \n",
       "3      3  Very few international news organisations rout...   \n",
       "4      4  The London School of Hygiene & Tropical Medici...   \n",
       "\n",
       "            load_date                                           headline  \\\n",
       "0   November 18, 2020  'Full-scale' humanitarian crisis unfolding in ...   \n",
       "1     January 7, 2017  'This is not Syria or Yemen': Fury as Red Cros...   \n",
       "2     January 7, 2017  'This is not Syria or Yemen': Fury as Red Cros...   \n",
       "3    October 17, 2018  -City, University of London: New report reveal...   \n",
       "4       July 24, 2017  -London School of Hygiene & Tropical Medicine ...   \n",
       "\n",
       "         source     date_published edition  \\\n",
       "0    defenceWeb  November 18, 2020    None   \n",
       "1    MailOnline    January 7, 2017    None   \n",
       "2    MailOnline    January 7, 2017    None   \n",
       "3  ENP Newswire   October 17, 2018    None   \n",
       "4  ENP Newswire      July 24, 2017    None   \n",
       "\n",
       "                                           copyright length  \\\n",
       "0      Copyright 2020 defenceWeb All Rights Reserved    473   \n",
       "1  Copyright 2017 Associated Newspapers Ltd. All ...   1470   \n",
       "2  Copyright 2017 Associated Newspapers Ltd. All ...   1700   \n",
       "3  Copyright 2018 Normans Media Limited All Right...    572   \n",
       "4  Copyright 2017 Normans Media Limited All Right...    598   \n",
       "\n",
       "                          byline dateline other section  date_formatted  \n",
       "0                           None     None  None    None         18584.0  \n",
       "1   GARETH DAVIES FOR MAILONLINE     None  None    None         17173.0  \n",
       "2   GARETH DAVIES FOR MAILONLINE     None  None    None         17173.0  \n",
       "3                           None     None  None    None         17821.0  \n",
       "4                           None     None  None    None         17371.0  "
      ]
     },
     "execution_count": 10,
     "metadata": {},
     "output_type": "execute_result"
    }
   ],
   "source": [
    "df = pd.read_sql_query(\"SELECT * from reference_set\", con)\n",
    "df.reset_index(inplace=True)\n",
    "df.head()"
   ]
  },
  {
   "cell_type": "code",
   "execution_count": 11,
   "id": "f194e464",
   "metadata": {},
   "outputs": [
    {
     "data": {
      "text/plain": [
       "{0: [], 1: [], 2: [], 3: [], 4: [], 5: [], 6: [], 7: [], 8: [], 9: []}"
      ]
     },
     "execution_count": 11,
     "metadata": {},
     "output_type": "execute_result"
    }
   ],
   "source": [
    "df_short = df.iloc[0:10, ]\n",
    "entities = {indx: [] for indx in df_short['index']}\n",
    "entities"
   ]
  },
  {
   "cell_type": "code",
   "execution_count": null,
   "id": "6cb595e6",
   "metadata": {},
   "outputs": [],
   "source": []
  }
 ],
 "metadata": {
  "kernelspec": {
   "display_name": "Python 3 (ipykernel)",
   "language": "python",
   "name": "python3"
  },
  "language_info": {
   "codemirror_mode": {
    "name": "ipython",
    "version": 3
   },
   "file_extension": ".py",
   "mimetype": "text/x-python",
   "name": "python",
   "nbconvert_exporter": "python",
   "pygments_lexer": "ipython3",
   "version": "3.9.7"
  }
 },
 "nbformat": 4,
 "nbformat_minor": 5
}
